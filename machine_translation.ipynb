{
 "cells": [
  {
   "cell_type": "markdown",
   "metadata": {
    "collapsed": true
   },
   "source": [
    "# Artificial Intelligence Nanodegree\n",
    "## Machine Translation Project\n",
    "In this notebook, sections that end with **'(IMPLEMENTATION)'** in the header indicate that the following blocks of code will require additional functionality which you must provide. Please be sure to read the instructions carefully!\n",
    "\n",
    "## Introduction\n",
    "In this notebook, you will build a deep neural network that functions as part of an end-to-end machine translation pipeline. Your completed pipeline will accept English text as input and return the French translation.\n",
    "\n",
    "- **Preprocess** - You'll convert text to sequence of integers.\n",
    "- **Models** Create models which accepts a sequence of integers as input and returns a probability distribution over possible translations. After learning about the basic types of neural networks that are often used for machine translation, you will engage in your own investigations, to design your own model!\n",
    "- **Prediction** Run the model on English text.\n",
    "\n",
    "## Dataset\n",
    "We begin by investigating the dataset that will be used to train and evaluate your pipeline.  The most common datasets used for machine translation are from [WMT](http://www.statmt.org/).  However, that will take a long time to train a neural network on.  We'll be using a dataset we created for this project that contains a small vocabulary.  You'll be able to train your model in a reasonable time with this dataset.\n",
    "### Load Data\n",
    "The data is located in `data/small_vocab_en` and `data/small_vocab_fr`. The `small_vocab_en` file contains English sentences with their French translations in the `small_vocab_fr` file. Load the English and French data from these files from running the cell below."
   ]
  },
  {
   "cell_type": "code",
   "execution_count": 1,
   "metadata": {},
   "outputs": [
    {
     "name": "stdout",
     "output_type": "stream",
     "text": [
      "Dataset Loaded\n"
     ]
    }
   ],
   "source": [
    "import helper\n",
    "\n",
    "\n",
    "# Load English data\n",
    "english_sentences = helper.load_data('data/small_vocab_en')\n",
    "# Load French data\n",
    "french_sentences = helper.load_data('data/small_vocab_fr')\n",
    "\n",
    "print('Dataset Loaded')"
   ]
  },
  {
   "cell_type": "markdown",
   "metadata": {},
   "source": [
    "### Files\n",
    "Each line in `small_vocab_en` contains an English sentence with the respective translation in each line of `small_vocab_fr`.  View the first two lines from each file."
   ]
  },
  {
   "cell_type": "code",
   "execution_count": 2,
   "metadata": {},
   "outputs": [
    {
     "name": "stdout",
     "output_type": "stream",
     "text": [
      "small_vocab_en Line 1:  new jersey is sometimes quiet during autumn , and it is snowy in april .\n",
      "small_vocab_fr Line 1:  new jersey est parfois calme pendant l' automne , et il est neigeux en avril .\n",
      "small_vocab_en Line 2:  the united states is usually chilly during july , and it is usually freezing in november .\n",
      "small_vocab_fr Line 2:  les états-unis est généralement froid en juillet , et il gèle habituellement en novembre .\n"
     ]
    }
   ],
   "source": [
    "for sample_i in range(2):\n",
    "    print('small_vocab_en Line {}:  {}'.format(sample_i + 1, english_sentences[sample_i]))\n",
    "    print('small_vocab_fr Line {}:  {}'.format(sample_i + 1, french_sentences[sample_i]))"
   ]
  },
  {
   "cell_type": "markdown",
   "metadata": {},
   "source": [
    "From looking at the sentences, you can see they have been preprocessed already.  The puncuations have been delimited using spaces. All the text have been converted to lowercase.  This should save you some time, but the text requires more preprocessing.\n",
    "### Vocabulary\n",
    "The complexity of the problem is determined by the complexity of the vocabulary.  A more complex vocabulary is a more complex problem.  Let's look at the complexity of the dataset we'll be working with."
   ]
  },
  {
   "cell_type": "code",
   "execution_count": 3,
   "metadata": {},
   "outputs": [
    {
     "name": "stdout",
     "output_type": "stream",
     "text": [
      "1823250 English words.\n",
      "227 unique English words.\n",
      "10 Most common words in the English dataset:\n",
      "\"is\" \",\" \".\" \"in\" \"it\" \"during\" \"the\" \"but\" \"and\" \"sometimes\"\n",
      "\n",
      "1961295 French words.\n",
      "355 unique French words.\n",
      "10 Most common words in the French dataset:\n",
      "\"est\" \".\" \",\" \"en\" \"il\" \"les\" \"mais\" \"et\" \"la\" \"parfois\"\n"
     ]
    }
   ],
   "source": [
    "import collections\n",
    "\n",
    "\n",
    "english_words_counter = collections.Counter([word for sentence in english_sentences for word in sentence.split()])\n",
    "french_words_counter = collections.Counter([word for sentence in french_sentences for word in sentence.split()])\n",
    "\n",
    "print('{} English words.'.format(len([word for sentence in english_sentences for word in sentence.split()])))\n",
    "print('{} unique English words.'.format(len(english_words_counter)))\n",
    "print('10 Most common words in the English dataset:')\n",
    "print('\"' + '\" \"'.join(list(zip(*english_words_counter.most_common(10)))[0]) + '\"')\n",
    "print()\n",
    "print('{} French words.'.format(len([word for sentence in french_sentences for word in sentence.split()])))\n",
    "print('{} unique French words.'.format(len(french_words_counter)))\n",
    "print('10 Most common words in the French dataset:')\n",
    "print('\"' + '\" \"'.join(list(zip(*french_words_counter.most_common(10)))[0]) + '\"')"
   ]
  },
  {
   "cell_type": "markdown",
   "metadata": {},
   "source": [
    "For comparison, _Alice's Adventures in Wonderland_ contains 2,766 unique words of a total of 15,500 words.\n",
    "## Preprocess\n",
    "For this project, you won't use text data as input to your model. Instead, you'll convert the text into sequences of integers using the following preprocess methods:\n",
    "1. Tokenize the words into ids\n",
    "2. Add padding to make all the sequences the same length.\n",
    "\n",
    "Time to start preprocessing the data...\n",
    "### Tokenize (IMPLEMENTATION)\n",
    "For a neural network to predict on text data, it first has to be turned into data it can understand. Text data like \"dog\" is a sequence of ASCII character encodings.  Since a neural network is a series of multiplication and addition operations, the input data needs to be number(s).\n",
    "\n",
    "We can turn each character into a number or each word into a number.  These are called character and word ids, respectively.  Character ids are used for character level models that generate text predictions for each character.  A word level model uses word ids that generate text predictions for each word.  Word level models tend to learn better, since they are lower in complexity, so we'll use those.\n",
    "\n",
    "Turn each sentence into a sequence of words ids using Keras's [`Tokenizer`](https://keras.io/preprocessing/text/#tokenizer) function. Use this function to tokenize `english_sentences` and `french_sentences` in the cell below.\n",
    "\n",
    "Running the cell will run `tokenize` on sample data and show output for debugging."
   ]
  },
  {
   "cell_type": "code",
   "execution_count": 4,
   "metadata": {},
   "outputs": [
    {
     "name": "stderr",
     "output_type": "stream",
     "text": [
      "Using TensorFlow backend.\n"
     ]
    },
    {
     "name": "stdout",
     "output_type": "stream",
     "text": [
      "{'the': 1, 'quick': 2, 'a': 3, 'brown': 4, 'fox': 5, 'jumps': 6, 'over': 7, 'lazy': 8, 'dog': 9, 'by': 10, 'jove': 11, 'my': 12, 'study': 13, 'of': 14, 'lexicography': 15, 'won': 16, 'prize': 17, 'this': 18, 'is': 19, 'short': 20, 'sentence': 21}\n",
      "\n",
      "Sequence 1 in x\n",
      "  Input:  The quick brown fox jumps over the lazy dog .\n",
      "  Output: [1, 2, 4, 5, 6, 7, 1, 8, 9]\n",
      "Sequence 2 in x\n",
      "  Input:  By Jove , my quick study of lexicography won a prize .\n",
      "  Output: [10, 11, 12, 2, 13, 14, 15, 16, 3, 17]\n",
      "Sequence 3 in x\n",
      "  Input:  This is a short sentence .\n",
      "  Output: [18, 19, 3, 20, 21]\n"
     ]
    }
   ],
   "source": [
    "import project_tests as tests\n",
    "from keras.preprocessing.text import Tokenizer\n",
    "\n",
    "\n",
    "def tokenize(x):\n",
    "    \"\"\"\n",
    "    Tokenize x\n",
    "    :param x: List of sentences/strings to be tokenized\n",
    "    :return: Tuple of (tokenized x data, tokenizer used to tokenize x)\n",
    "    \"\"\"\n",
    "    # TODO: Implement\n",
    "    tokenizer = Tokenizer()\n",
    "    tokenizer.fit_on_texts(x)\n",
    "    return tokenizer.texts_to_sequences(x), tokenizer\n",
    "\n",
    "tests.test_tokenize(tokenize)\n",
    "\n",
    "# Tokenize Example output\n",
    "text_sentences = [\n",
    "    'The quick brown fox jumps over the lazy dog .',\n",
    "    'By Jove , my quick study of lexicography won a prize .',\n",
    "    'This is a short sentence .']\n",
    "text_tokenized, text_tokenizer = tokenize(text_sentences)\n",
    "print(text_tokenizer.word_index)\n",
    "print()\n",
    "for sample_i, (sent, token_sent) in enumerate(zip(text_sentences, text_tokenized)):\n",
    "    print('Sequence {} in x'.format(sample_i + 1))\n",
    "    print('  Input:  {}'.format(sent))\n",
    "    print('  Output: {}'.format(token_sent))"
   ]
  },
  {
   "cell_type": "markdown",
   "metadata": {},
   "source": [
    "### Padding (IMPLEMENTATION)\n",
    "When batching the sequence of word ids together, each sequence needs to be the same length.  Since sentences are dynamic in length, we can add padding to the end of the sequences to make them the same length.\n",
    "\n",
    "Make sure all the English sequences have the same length and all the French sequences have the same length by adding padding to the **end** of each sequence using Keras's [`pad_sequences`](https://keras.io/preprocessing/sequence/#pad_sequences) function."
   ]
  },
  {
   "cell_type": "code",
   "execution_count": 5,
   "metadata": {},
   "outputs": [
    {
     "name": "stdout",
     "output_type": "stream",
     "text": [
      "Sequence 1 in x\n",
      "  Input:  [1 2 4 5 6 7 1 8 9]\n",
      "  Output: [1 2 4 5 6 7 1 8 9 0]\n",
      "Sequence 2 in x\n",
      "  Input:  [10 11 12  2 13 14 15 16  3 17]\n",
      "  Output: [10 11 12  2 13 14 15 16  3 17]\n",
      "Sequence 3 in x\n",
      "  Input:  [18 19  3 20 21]\n",
      "  Output: [18 19  3 20 21  0  0  0  0  0]\n"
     ]
    }
   ],
   "source": [
    "import numpy as np\n",
    "from keras.preprocessing.sequence import pad_sequences\n",
    "\n",
    "\n",
    "def pad(x, length=None):\n",
    "    \"\"\"\n",
    "    Pad x\n",
    "    :param x: List of sequences.\n",
    "    :param length: Length to pad the sequence to.  If None, use length of longest sequence in x.\n",
    "    :return: Padded numpy array of sequences\n",
    "    \"\"\"\n",
    "    # TODO: Implement\n",
    "    return pad_sequences(x, length, padding='post')\n",
    "\n",
    "tests.test_pad(pad)\n",
    "\n",
    "# Pad Tokenized output\n",
    "test_pad = pad(text_tokenized)\n",
    "for sample_i, (token_sent, pad_sent) in enumerate(zip(text_tokenized, test_pad)):\n",
    "    print('Sequence {} in x'.format(sample_i + 1))\n",
    "    print('  Input:  {}'.format(np.array(token_sent)))\n",
    "    print('  Output: {}'.format(pad_sent))"
   ]
  },
  {
   "cell_type": "markdown",
   "metadata": {},
   "source": [
    "### Preprocess Pipeline\n",
    "Your focus for this project is to build neural network architecture, so we won't ask you to create a preprocess pipeline.  Instead, we've provided you with the implementation of the `preprocess` function."
   ]
  },
  {
   "cell_type": "code",
   "execution_count": 6,
   "metadata": {},
   "outputs": [
    {
     "name": "stdout",
     "output_type": "stream",
     "text": [
      "Data Preprocessed\n"
     ]
    }
   ],
   "source": [
    "def preprocess(x, y):\n",
    "    \"\"\"\n",
    "    Preprocess x and y\n",
    "    :param x: Feature List of sentences\n",
    "    :param y: Label List of sentences\n",
    "    :return: Tuple of (Preprocessed x, Preprocessed y, x tokenizer, y tokenizer)\n",
    "    \"\"\"\n",
    "    preprocess_x, x_tk = tokenize(x)\n",
    "    preprocess_y, y_tk = tokenize(y)\n",
    "\n",
    "    preprocess_x = pad(preprocess_x)\n",
    "    preprocess_y = pad(preprocess_y)\n",
    "\n",
    "    # Keras's sparse_categorical_crossentropy function requires the labels to be in 3 dimensions\n",
    "    preprocess_y = preprocess_y.reshape(*preprocess_y.shape, 1)\n",
    "\n",
    "    return preprocess_x, preprocess_y, x_tk, y_tk\n",
    "\n",
    "preproc_english_sentences, preproc_french_sentences, english_tokenizer, french_tokenizer =\\\n",
    "    preprocess(english_sentences, french_sentences)\n",
    "\n",
    "print('Data Preprocessed')"
   ]
  },
  {
   "cell_type": "markdown",
   "metadata": {},
   "source": [
    "## Models\n",
    "In this section, you will experiment with various neural network architectures.\n",
    "You will begin by training four relatively simple architectures.\n",
    "- Model 1 is a simple RNN\n",
    "- Model 2 is a RNN with Embedding\n",
    "- Model 3 is a Bidirectional RNN\n",
    "- Model 4 is an optional Encoder-Decoder RNN\n",
    "\n",
    "After experimenting with the four simple architectures, you will construct a deeper architecture that is designed to outperform all four models.\n",
    "### Ids Back to Text\n",
    "The neural network will be translating the input to words ids, which isn't the final form we want.  We want the French translation.  The function `logits_to_text` will bridge the gab between the logits from the neural network to the French translation.  You'll be using this function to better understand the output of the neural network."
   ]
  },
  {
   "cell_type": "code",
   "execution_count": 7,
   "metadata": {},
   "outputs": [
    {
     "name": "stdout",
     "output_type": "stream",
     "text": [
      "`logits_to_text` function loaded.\n"
     ]
    }
   ],
   "source": [
    "def logits_to_text(logits, tokenizer):\n",
    "    \"\"\"\n",
    "    Turn logits from a neural network into text using the tokenizer\n",
    "    :param logits: Logits from a neural network\n",
    "    :param tokenizer: Keras Tokenizer fit on the labels\n",
    "    :return: String that represents the text of the logits\n",
    "    \"\"\"\n",
    "    index_to_words = {id: word for word, id in tokenizer.word_index.items()}\n",
    "    index_to_words[0] = '<PAD>'\n",
    "\n",
    "    return ' '.join([index_to_words[prediction] for prediction in np.argmax(logits, 1)])\n",
    "\n",
    "print('`logits_to_text` function loaded.')"
   ]
  },
  {
   "cell_type": "markdown",
   "metadata": {},
   "source": [
    "### Model 1: RNN (IMPLEMENTATION)\n",
    "![RNN](images/rnn.png)\n",
    "A basic RNN model is a good baseline for sequence data.  In this model, you'll build a RNN that translates English to French."
   ]
  },
  {
   "cell_type": "code",
   "execution_count": 8,
   "metadata": {},
   "outputs": [
    {
     "name": "stdout",
     "output_type": "stream",
     "text": [
      "_________________________________________________________________\n",
      "Layer (type)                 Output Shape              Param #   \n",
      "=================================================================\n",
      "main_input (InputLayer)      (None, 21, 1)             0         \n",
      "_________________________________________________________________\n",
      "gru_2 (GRU)                  (None, 21, 21)            1449      \n",
      "_________________________________________________________________\n",
      "time_distributed_2 (TimeDist (None, 21, 345)           7590      \n",
      "=================================================================\n",
      "Total params: 9,039\n",
      "Trainable params: 9,039\n",
      "Non-trainable params: 0\n",
      "_________________________________________________________________\n",
      "Train on 110288 samples, validate on 27573 samples\n",
      "Epoch 1/10\n",
      "110288/110288 [==============================] - 97s - loss: 2.1836 - acc: 0.5094 - val_loss: 1.8541 - val_acc: 0.5521\n",
      "Epoch 2/10\n",
      "110288/110288 [==============================] - 63s - loss: 1.7805 - acc: 0.5582 - val_loss: 1.7188 - val_acc: 0.5685\n",
      "Epoch 3/10\n",
      "110288/110288 [==============================] - 60s - loss: 1.6981 - acc: 0.5707 - val_loss: 1.6822 - val_acc: 0.5725\n",
      "Epoch 4/10\n",
      "110288/110288 [==============================] - 60s - loss: 1.6691 - acc: 0.5756 - val_loss: 1.6796 - val_acc: 0.5747\n",
      "Epoch 5/10\n",
      "110288/110288 [==============================] - 60s - loss: 1.6416 - acc: 0.5817 - val_loss: 1.6342 - val_acc: 0.5846\n",
      "Epoch 6/10\n",
      "110288/110288 [==============================] - 60s - loss: 1.6232 - acc: 0.5839 - val_loss: 1.5909 - val_acc: 0.5954\n",
      "Epoch 7/10\n",
      "110288/110288 [==============================] - 60s - loss: 1.5920 - acc: 0.5926 - val_loss: 1.5974 - val_acc: 0.5970\n",
      "Epoch 8/10\n",
      "110288/110288 [==============================] - 60s - loss: 1.5789 - acc: 0.5954 - val_loss: 1.5768 - val_acc: 0.5976\n",
      "Epoch 9/10\n",
      "110288/110288 [==============================] - 59s - loss: 1.5937 - acc: 0.5918 - val_loss: 1.5687 - val_acc: 0.5935\n",
      "Epoch 10/10\n",
      "110288/110288 [==============================] - 60s - loss: 1.5581 - acc: 0.5997 - val_loss: 1.5617 - val_acc: 0.6028\n",
      "new jersey est parfois parfois en mois et il est est en en <PAD> <PAD> <PAD> <PAD> <PAD> <PAD> <PAD> <PAD>\n"
     ]
    }
   ],
   "source": [
    "from keras.layers import GRU, Input, Dense, TimeDistributed\n",
    "from keras.models import Model\n",
    "from keras.layers import Activation\n",
    "from keras.optimizers import Adam\n",
    "from keras.losses import sparse_categorical_crossentropy\n",
    "\n",
    "\n",
    "def simple_model(input_shape, output_sequence_length, english_vocab_size, french_vocab_size):\n",
    "    \"\"\"\n",
    "    Build and train a basic RNN on x and y\n",
    "    :param input_shape: Tuple of input shape\n",
    "    :param output_sequence_length: Length of output sequence\n",
    "    :param english_vocab_size: Number of unique English words in the dataset\n",
    "    :param french_vocab_size: Number of unique French words in the dataset\n",
    "    :return: Keras model built, but not trained\n",
    "    \"\"\"\n",
    "    learning_rate = 0.1\n",
    "    inputs = Input(input_shape[1:], dtype='float32', name='main_input')\n",
    "    hidden = GRU(output_sequence_length, return_sequences=True)(inputs)\n",
    "    outputs = TimeDistributed(Dense(french_vocab_size, activation='softmax'))(hidden)\n",
    "    model = Model(inputs=inputs, outputs=outputs)\n",
    "    model.compile(loss=sparse_categorical_crossentropy,\n",
    "                  optimizer=Adam(learning_rate),\n",
    "                  metrics=['accuracy'])\n",
    "    return model\n",
    "\n",
    "tests.test_simple_model(simple_model)\n",
    "\n",
    "\n",
    "# Reshaping the input to work with a basic RNN\n",
    "tmp_x = pad(preproc_english_sentences, preproc_french_sentences.shape[1])\n",
    "tmp_x = tmp_x.reshape((-1, preproc_french_sentences.shape[-2], 1))\n",
    "\n",
    "# Train the neural network\n",
    "simple_rnn_model = simple_model(\n",
    "    tmp_x.shape,\n",
    "    preproc_french_sentences.shape[1],\n",
    "    len(english_tokenizer.word_index)+1,\n",
    "    len(french_tokenizer.word_index)+1)\n",
    "\n",
    "simple_rnn_model.summary()\n",
    "simple_rnn_model.fit(tmp_x, preproc_french_sentences, batch_size=1024, epochs=10, validation_split=0.2)\n",
    "\n",
    "# Print prediction(s)\n",
    "print(logits_to_text(simple_rnn_model.predict(tmp_x[:1])[0], french_tokenizer))"
   ]
  },
  {
   "cell_type": "markdown",
   "metadata": {},
   "source": [
    "### Model 2: Embedding (IMPLEMENTATION)\n",
    "![RNN](images/embedding.png)\n",
    "You've turned the words into ids, but there's a better representation of a word.  This is called word embeddings.  An embedding is a vector representation of the word that is close to similar words in n-dimensional space, where the n represents the size of the embedding vectors.\n",
    "\n",
    "In this model, you'll create a RNN model using embedding."
   ]
  },
  {
   "cell_type": "code",
   "execution_count": 9,
   "metadata": {
    "scrolled": false
   },
   "outputs": [
    {
     "name": "stdout",
     "output_type": "stream",
     "text": [
      "_________________________________________________________________\n",
      "Layer (type)                 Output Shape              Param #   \n",
      "=================================================================\n",
      "main_input (InputLayer)      (None, 21)                0         \n",
      "_________________________________________________________________\n",
      "embedding_2 (Embedding)      (None, 21, 20)            4000      \n",
      "_________________________________________________________________\n",
      "gru_4 (GRU)                  (None, 21, 21)            2646      \n",
      "_________________________________________________________________\n",
      "time_distributed_4 (TimeDist (None, 21, 345)           7590      \n",
      "=================================================================\n",
      "Total params: 14,236\n",
      "Trainable params: 14,236\n",
      "Non-trainable params: 0\n",
      "_________________________________________________________________\n",
      "Train on 110288 samples, validate on 27573 samples\n",
      "Epoch 1/10\n",
      "110288/110288 [==============================] - 61s - loss: 1.2205 - acc: 0.6973 - val_loss: 0.7251 - val_acc: 0.7850\n",
      "Epoch 2/10\n",
      "110288/110288 [==============================] - 60s - loss: 0.6730 - acc: 0.7957 - val_loss: 0.6260 - val_acc: 0.8067\n",
      "Epoch 3/10\n",
      "110288/110288 [==============================] - 60s - loss: 0.6033 - acc: 0.8141 - val_loss: 0.5762 - val_acc: 0.8233\n",
      "Epoch 4/10\n",
      "110288/110288 [==============================] - 61s - loss: 0.5744 - acc: 0.8224 - val_loss: 0.5669 - val_acc: 0.8228\n",
      "Epoch 5/10\n",
      "110288/110288 [==============================] - 60s - loss: 0.5583 - acc: 0.8275 - val_loss: 0.5698 - val_acc: 0.8260\n",
      "Epoch 6/10\n",
      "110288/110288 [==============================] - 61s - loss: 0.5517 - acc: 0.8303 - val_loss: 0.5464 - val_acc: 0.8342\n",
      "Epoch 7/10\n",
      "110288/110288 [==============================] - 60s - loss: 0.5403 - acc: 0.8344 - val_loss: 0.5266 - val_acc: 0.8401\n",
      "Epoch 8/10\n",
      "110288/110288 [==============================] - 60s - loss: 0.5339 - acc: 0.8362 - val_loss: 0.5405 - val_acc: 0.8347\n",
      "Epoch 9/10\n",
      "110288/110288 [==============================] - 60s - loss: 0.5469 - acc: 0.8329 - val_loss: 0.5407 - val_acc: 0.8338\n",
      "Epoch 10/10\n",
      "110288/110288 [==============================] - 60s - loss: 0.5670 - acc: 0.8273 - val_loss: 0.5711 - val_acc: 0.8259\n",
      "new jersey est parfois calme en automne automne il est enneigée en avril avril <PAD> <PAD> <PAD> <PAD> <PAD> <PAD> <PAD>\n"
     ]
    }
   ],
   "source": [
    "from keras.layers.embeddings import Embedding\n",
    "\n",
    "\n",
    "def embed_model(input_shape, output_sequence_length, english_vocab_size, french_vocab_size):\n",
    "    \"\"\"\n",
    "    Build and train a RNN model using word embedding on x and y\n",
    "    :param input_shape: Tuple of input shape\n",
    "    :param output_sequence_length: Length of output sequence\n",
    "    :param english_vocab_size: Number of unique English words in the dataset\n",
    "    :param french_vocab_size: Number of unique French words in the dataset\n",
    "    :return: Keras model built, but not trained\n",
    "    \"\"\"\n",
    "    # Implement\n",
    "    learning_rate = 0.1\n",
    "    embedding_dim = english_vocab_size // 10\n",
    "    inputs = Input(input_shape[1:], dtype='float32', name='main_input')\n",
    "    embeded = Embedding(\n",
    "        input_dim=english_vocab_size,\n",
    "        output_dim=embedding_dim,\n",
    "        input_length=output_sequence_length,\n",
    "        mask_zero=False)(inputs)\n",
    "    hidden = GRU(output_sequence_length, return_sequences=True)(embeded)\n",
    "    outputs = TimeDistributed(Dense(french_vocab_size, activation='softmax'))(hidden)\n",
    "    model = Model(inputs=inputs, outputs=outputs)\n",
    "    model.compile(loss=sparse_categorical_crossentropy,\n",
    "                  optimizer=Adam(learning_rate),\n",
    "                  metrics=['accuracy'])\n",
    "    return model\n",
    "\n",
    "\n",
    "tests.test_embed_model(embed_model)\n",
    "\n",
    "\n",
    "# Reshaping the input to work with a basic RNN\n",
    "tmp_x = pad(preproc_english_sentences, preproc_french_sentences.shape[1])\n",
    "\n",
    "# Train the neural network\n",
    "embed_rnn_model = embed_model(\n",
    "    tmp_x.shape,\n",
    "    preproc_french_sentences.shape[1],\n",
    "    len(english_tokenizer.word_index)+1,\n",
    "    len(french_tokenizer.word_index)+1)\n",
    "\n",
    "embed_rnn_model.summary()\n",
    "embed_rnn_model.fit(tmp_x,\n",
    "                    preproc_french_sentences,\n",
    "                    batch_size=1024,\n",
    "                    epochs=10,\n",
    "                    validation_split=0.2)\n",
    "\n",
    "# Print prediction(s)\n",
    "print(logits_to_text(embed_rnn_model.predict(tmp_x[:1])[0], french_tokenizer))"
   ]
  },
  {
   "cell_type": "markdown",
   "metadata": {},
   "source": [
    "### Model 3: Bidirectional RNNs (IMPLEMENTATION)\n",
    "![RNN](images/bidirectional.png)\n",
    "One restriction of a RNN is that it can't see the future input, only the past.  This is where bidirectional recurrent neural networks come in.  They are able to see the future data."
   ]
  },
  {
   "cell_type": "code",
   "execution_count": 10,
   "metadata": {},
   "outputs": [
    {
     "name": "stdout",
     "output_type": "stream",
     "text": [
      "_________________________________________________________________\n",
      "Layer (type)                 Output Shape              Param #   \n",
      "=================================================================\n",
      "main_input (InputLayer)      (None, 21, 1)             0         \n",
      "_________________________________________________________________\n",
      "bidirectional_2 (Bidirection (None, 21, 42)            2898      \n",
      "_________________________________________________________________\n",
      "time_distributed_6 (TimeDist (None, 21, 345)           14835     \n",
      "=================================================================\n",
      "Total params: 17,733\n",
      "Trainable params: 17,733\n",
      "Non-trainable params: 0\n",
      "_________________________________________________________________\n",
      "Train on 110288 samples, validate on 27573 samples\n",
      "Epoch 1/10\n",
      "110288/110288 [==============================] - 74s - loss: 1.9118 - acc: 0.5607 - val_loss: 1.4719 - val_acc: 0.6145\n",
      "Epoch 2/10\n",
      "110288/110288 [==============================] - 74s - loss: 1.4037 - acc: 0.6249 - val_loss: 1.3732 - val_acc: 0.6296\n",
      "Epoch 3/10\n",
      "110288/110288 [==============================] - 74s - loss: 1.3398 - acc: 0.6358 - val_loss: 1.3170 - val_acc: 0.6413\n",
      "Epoch 4/10\n",
      "110288/110288 [==============================] - 74s - loss: 1.3125 - acc: 0.6415 - val_loss: 1.2848 - val_acc: 0.6493\n",
      "Epoch 5/10\n",
      "110288/110288 [==============================] - 74s - loss: 1.2907 - acc: 0.6463 - val_loss: 1.2629 - val_acc: 0.6567\n",
      "Epoch 6/10\n",
      "110288/110288 [==============================] - 74s - loss: 1.2623 - acc: 0.6529 - val_loss: 1.2564 - val_acc: 0.6555\n",
      "Epoch 7/10\n",
      "110288/110288 [==============================] - 74s - loss: 1.2582 - acc: 0.6520 - val_loss: 1.2424 - val_acc: 0.6561\n",
      "Epoch 8/10\n",
      "110288/110288 [==============================] - 74s - loss: 1.2450 - acc: 0.6544 - val_loss: 1.2497 - val_acc: 0.6529\n",
      "Epoch 9/10\n",
      "110288/110288 [==============================] - 74s - loss: 1.2402 - acc: 0.6552 - val_loss: 1.2308 - val_acc: 0.6562\n",
      "Epoch 10/10\n",
      "110288/110288 [==============================] - 74s - loss: 1.2455 - acc: 0.6541 - val_loss: 1.2299 - val_acc: 0.6595\n",
      "new jersey est parfois parfois en janvier et il est est en en <PAD> <PAD> <PAD> <PAD> <PAD> <PAD> <PAD> <PAD>\n"
     ]
    }
   ],
   "source": [
    "from keras.layers import Bidirectional\n",
    "\n",
    "\n",
    "def bd_model(input_shape, output_sequence_length, english_vocab_size, french_vocab_size):\n",
    "    \"\"\"\n",
    "    Build and train a bidirectional RNN model on x and y\n",
    "    :param input_shape: Tuple of input shape\n",
    "    :param output_sequence_length: Length of output sequence\n",
    "    :param english_vocab_size: Number of unique English words in the dataset\n",
    "    :param french_vocab_size: Number of unique French words in the dataset\n",
    "    :return: Keras model built, but not trained\n",
    "    \"\"\"\n",
    "    # Implement\n",
    "    learning_rate = 0.1\n",
    "    inputs = Input(input_shape[1:], dtype='float32', name='main_input')\n",
    "    hidden = Bidirectional(GRU(output_sequence_length, return_sequences=True), )(inputs)\n",
    "    outputs = TimeDistributed(Dense(french_vocab_size, activation='softmax'))(hidden)\n",
    "    model = Model(inputs=inputs, outputs=outputs)\n",
    "    model.compile(loss=sparse_categorical_crossentropy,\n",
    "                  optimizer=Adam(learning_rate),\n",
    "                  metrics=['accuracy'])\n",
    "    return model\n",
    "\n",
    "tests.test_bd_model(bd_model)\n",
    "\n",
    "# Reshaping the input to work with a basic RNN\n",
    "tmp_x = pad(preproc_english_sentences, preproc_french_sentences.shape[1])\n",
    "tmp_x = tmp_x.reshape((-1, preproc_french_sentences.shape[-2], 1))\n",
    "\n",
    "# Train the neural network\n",
    "bd_rnn_model = bd_model(\n",
    "    tmp_x.shape,\n",
    "    preproc_french_sentences.shape[1],\n",
    "    len(english_tokenizer.word_index)+1,\n",
    "    len(french_tokenizer.word_index)+1)\n",
    "\n",
    "bd_rnn_model.summary()\n",
    "bd_rnn_model.fit(tmp_x, preproc_french_sentences, batch_size=1024, epochs=10, validation_split=0.2)\n",
    "\n",
    "# Print prediction(s)\n",
    "print(logits_to_text(bd_rnn_model.predict(tmp_x[:1])[0], french_tokenizer))"
   ]
  },
  {
   "cell_type": "markdown",
   "metadata": {},
   "source": [
    "### Model 4: Encoder-Decoder (OPTIONAL)\n",
    "Time to look at encoder-decoder models.  This model is made up of an encoder and decoder. The encoder creates a matrix representation of the sentence.  The decoder takes this matrix as input and predicts the translation as output.\n",
    "\n",
    "Create an encoder-decoder model in the cell below."
   ]
  },
  {
   "cell_type": "code",
   "execution_count": 12,
   "metadata": {},
   "outputs": [
    {
     "name": "stdout",
     "output_type": "stream",
     "text": [
      "_________________________________________________________________\n",
      "Layer (type)                 Output Shape              Param #   \n",
      "=================================================================\n",
      "main_input (InputLayer)      (None, 21, 1)             0         \n",
      "_________________________________________________________________\n",
      "gru_13 (GRU)                 (None, 21)                1449      \n",
      "_________________________________________________________________\n",
      "dense_13 (Dense)             (None, 64)                1408      \n",
      "_________________________________________________________________\n",
      "repeat_vector_4 (RepeatVecto (None, 21, 64)            0         \n",
      "_________________________________________________________________\n",
      "gru_14 (GRU)                 (None, 21, 64)            24768     \n",
      "_________________________________________________________________\n",
      "time_distributed_10 (TimeDis (None, 21, 345)           22425     \n",
      "=================================================================\n",
      "Total params: 50,050\n",
      "Trainable params: 50,050\n",
      "Non-trainable params: 0\n",
      "_________________________________________________________________\n",
      "Train on 110288 samples, validate on 27573 samples\n",
      "Epoch 1/10\n",
      "110288/110288 [==============================] - 104s - loss: 3.3376 - acc: 0.4007 - val_loss: 3.2146 - val_acc: 0.4093\n",
      "Epoch 2/10\n",
      "110288/110288 [==============================] - 103s - loss: 3.2187 - acc: 0.4082 - val_loss: 3.2166 - val_acc: 0.4093\n",
      "Epoch 3/10\n",
      "110288/110288 [==============================] - 103s - loss: 3.2195 - acc: 0.4082 - val_loss: 3.2154 - val_acc: 0.4093\n",
      "Epoch 4/10\n",
      "110288/110288 [==============================] - 103s - loss: 3.2204 - acc: 0.4082 - val_loss: 3.2165 - val_acc: 0.4093\n",
      "Epoch 5/10\n",
      "110288/110288 [==============================] - 103s - loss: 3.2211 - acc: 0.4082 - val_loss: 3.2179 - val_acc: 0.4093\n",
      "Epoch 6/10\n",
      "110288/110288 [==============================] - 103s - loss: 3.2214 - acc: 0.4082 - val_loss: 3.2170 - val_acc: 0.4093\n",
      "Epoch 7/10\n",
      "110288/110288 [==============================] - 103s - loss: 3.2214 - acc: 0.4082 - val_loss: 3.2190 - val_acc: 0.4093\n",
      "Epoch 8/10\n",
      "110288/110288 [==============================] - 103s - loss: 3.2217 - acc: 0.4082 - val_loss: 3.2187 - val_acc: 0.4093\n",
      "Epoch 9/10\n",
      "110288/110288 [==============================] - 103s - loss: 3.2220 - acc: 0.4082 - val_loss: 3.2186 - val_acc: 0.4093\n",
      "Epoch 10/10\n",
      "110288/110288 [==============================] - 103s - loss: 3.2218 - acc: 0.4082 - val_loss: 3.2175 - val_acc: 0.4093\n",
      "<PAD> <PAD> <PAD> <PAD> <PAD> <PAD> <PAD> <PAD> <PAD> <PAD> <PAD> <PAD> <PAD> <PAD> <PAD> <PAD> <PAD> <PAD> <PAD> <PAD> <PAD>\n"
     ]
    }
   ],
   "source": [
    "from keras.layers import RepeatVector\n",
    "\n",
    "\n",
    "def encdec_model(input_shape, output_sequence_length, english_vocab_size, french_vocab_size):\n",
    "    \"\"\"\n",
    "    Build and train an encoder-decoder model on x and y\n",
    "    :param input_shape: Tuple of input shape\n",
    "    :param output_sequence_length: Length of output sequence\n",
    "    :param english_vocab_size: Number of unique English words in the dataset\n",
    "    :param french_vocab_size: Number of unique French words in the dataset\n",
    "    :return: Keras model built, but not trained\n",
    "    \"\"\"\n",
    "    learning_rate = 0.1\n",
    "    \n",
    "    encoder_input = Input(input_shape[1:], dtype='float32', name='main_input')\n",
    "    encoder_hidden = GRU(output_sequence_length, return_sequences=False)(encoder_input)\n",
    "    encoder_output = RepeatVector(output_sequence_length)(Dense(64, activation='relu')(encoder_hidden))\n",
    "    decoder_hidden = GRU(64, return_sequences=True)(encoder_output)\n",
    "    decoder_ouput = TimeDistributed(Dense(french_vocab_size, activation=\"softmax\"))(decoder_hidden)\n",
    "    \n",
    "    model = Model(inputs=encoder_input, outputs=decoder_ouput)\n",
    "    model.compile(loss=sparse_categorical_crossentropy,\n",
    "                  optimizer=Adam(learning_rate),\n",
    "                  metrics=['accuracy'])\n",
    "    return model\n",
    "\n",
    "tests.test_encdec_model(encdec_model)\n",
    "\n",
    "\n",
    "# OPTIONAL: Train and Print prediction(s)\n",
    "\n",
    "# Reshaping the input to work with a basic RNN\n",
    "tmp_x = pad(preproc_english_sentences, preproc_french_sentences.shape[1])\n",
    "tmp_x = tmp_x.reshape((-1, preproc_french_sentences.shape[-2], 1))\n",
    "\n",
    "# Train the neural network\n",
    "encdec_model = encdec_model(\n",
    "    tmp_x.shape,\n",
    "    preproc_french_sentences.shape[1],\n",
    "    len(english_tokenizer.word_index)+1,\n",
    "    len(french_tokenizer.word_index)+1)\n",
    "\n",
    "encdec_model.summary()\n",
    "encdec_model.fit(tmp_x, preproc_french_sentences, batch_size=1024, epochs=10, validation_split=0.2)\n",
    "\n",
    "# Print prediction(s)\n",
    "print(logits_to_text(encdec_model.predict(tmp_x[:1])[0], french_tokenizer))"
   ]
  },
  {
   "cell_type": "markdown",
   "metadata": {},
   "source": [
    "### Model 5: Custom (IMPLEMENTATION)\n",
    "Use everything you learned from the previous models to create a model that incorporates embedding and a bidirectional rnn into one model."
   ]
  },
  {
   "cell_type": "code",
   "execution_count": 46,
   "metadata": {
    "scrolled": false
   },
   "outputs": [
    {
     "name": "stdout",
     "output_type": "stream",
     "text": [
      "Final Model Loaded\n",
      "_________________________________________________________________\n",
      "Layer (type)                 Output Shape              Param #   \n",
      "=================================================================\n",
      "main_input (InputLayer)      (None, 15)                0         \n",
      "_________________________________________________________________\n",
      "embedding_24 (Embedding)     (None, 15, 20)            4000      \n",
      "_________________________________________________________________\n",
      "bidirectional_44 (Bidirectio (None, 42)                5292      \n",
      "_________________________________________________________________\n",
      "dense_55 (Dense)             (None, 64)                2752      \n",
      "_________________________________________________________________\n",
      "repeat_vector_25 (RepeatVect (None, 21, 64)            0         \n",
      "_________________________________________________________________\n",
      "bidirectional_45 (Bidirectio (None, 21, 128)           49536     \n",
      "_________________________________________________________________\n",
      "time_distributed_31 (TimeDis (None, 21, 345)           44505     \n",
      "=================================================================\n",
      "Total params: 106,085\n",
      "Trainable params: 106,085\n",
      "Non-trainable params: 0\n",
      "_________________________________________________________________\n",
      "Train on 110288 samples, validate on 27573 samples\n",
      "Epoch 1/1\n",
      "110288/110288 [==============================] - 161s - loss: 2.3654 - acc: 0.4859 - val_loss: 1.6854 - val_acc: 0.5749\n",
      "new jersey est est en en en il il est en en en <PAD> <PAD> <PAD> <PAD> <PAD> <PAD> <PAD> <PAD>\n"
     ]
    }
   ],
   "source": [
    "def model_final(input_shape, output_sequence_length, english_vocab_size, french_vocab_size):\n",
    "    \"\"\"\n",
    "    Build and train a model that incorporates embedding, encoder-decoder, and bidirectional RNN on x and y\n",
    "    :param input_shape: Tuple of input shape\n",
    "    :param output_sequence_length: Length of output sequence\n",
    "    :param english_vocab_size: Number of unique English words in the dataset\n",
    "    :param french_vocab_size: Number of unique French words in the dataset\n",
    "    :return: Keras model built, but not trained\n",
    "    \"\"\"\n",
    "    # TODO: Implement\n",
    "    learning_rate = 0.01\n",
    "    embedding_dim = english_vocab_size // 10\n",
    "    inputs = Input(input_shape[1:], dtype='float32', name='main_input')\n",
    "    embeded = Embedding(\n",
    "        input_dim=english_vocab_size,\n",
    "        output_dim=embedding_dim,\n",
    "        mask_zero=False)(inputs)\n",
    "    encoder_hidden = Bidirectional(GRU(output_sequence_length, return_sequences=False))(embeded)\n",
    "    encoder_output = RepeatVector(output_sequence_length)(Dense(64, activation='relu')(encoder_hidden))\n",
    "    decoder_hidden = Bidirectional(GRU(64, return_sequences=True))(encoder_output)\n",
    "    decoder_ouput = TimeDistributed(Dense(french_vocab_size, activation=\"softmax\"))(decoder_hidden)\n",
    "    \n",
    "    model = Model(inputs=inputs, outputs=decoder_ouput)\n",
    "    model.compile(loss=sparse_categorical_crossentropy,\n",
    "                  optimizer=Adam(learning_rate),\n",
    "                  metrics=['accuracy'])\n",
    "    return model\n",
    "tests.test_model_final(model_final)\n",
    "\n",
    "print('Final Model Loaded')\n",
    "\n",
    "# Train the neural network\n",
    "final_model = model_final(\n",
    "    preproc_english_sentences.shape,\n",
    "    preproc_french_sentences.shape[1],\n",
    "    len(english_tokenizer.word_index)+1,\n",
    "    len(french_tokenizer.word_index)+1)\n",
    "\n",
    "final_model.summary()\n",
    "final_model.fit(preproc_english_sentences, preproc_french_sentences, batch_size=1024, epochs=1, validation_split=0.2)\n",
    "\n",
    "# Print prediction(s)\n",
    "print(logits_to_text(final_model.predict(preproc_english_sentences[:1])[0], french_tokenizer))\n"
   ]
  },
  {
   "cell_type": "markdown",
   "metadata": {},
   "source": [
    "## Prediction (IMPLEMENTATION)"
   ]
  },
  {
   "cell_type": "code",
   "execution_count": 47,
   "metadata": {
    "scrolled": false
   },
   "outputs": [
    {
     "name": "stdout",
     "output_type": "stream",
     "text": [
      "Train on 110288 samples, validate on 27573 samples\n",
      "Epoch 1/20\n",
      "110288/110288 [==============================] - 161s - loss: 2.4164 - acc: 0.4793 - val_loss: 1.7210 - val_acc: 0.5532\n",
      "Epoch 2/20\n",
      "110288/110288 [==============================] - 160s - loss: 1.3976 - acc: 0.6192 - val_loss: 1.1803 - val_acc: 0.6654\n",
      "Epoch 3/20\n",
      "110288/110288 [==============================] - 159s - loss: 1.0641 - acc: 0.6917 - val_loss: 0.9504 - val_acc: 0.7174\n",
      "Epoch 4/20\n",
      "110288/110288 [==============================] - 159s - loss: 0.9001 - acc: 0.7315 - val_loss: 0.8475 - val_acc: 0.7445\n",
      "Epoch 5/20\n",
      "110288/110288 [==============================] - 329s - loss: 0.7731 - acc: 0.7642 - val_loss: 0.7301 - val_acc: 0.7758\n",
      "Epoch 6/20\n",
      "110288/110288 [==============================] - 332s - loss: 0.7079 - acc: 0.7799 - val_loss: 0.6682 - val_acc: 0.7906\n",
      "Epoch 7/20\n",
      "110288/110288 [==============================] - 333s - loss: 0.6400 - acc: 0.7973 - val_loss: 0.6040 - val_acc: 0.8087\n",
      "Epoch 8/20\n",
      "110288/110288 [==============================] - 326s - loss: 0.5967 - acc: 0.8108 - val_loss: 0.5699 - val_acc: 0.8194\n",
      "Epoch 9/20\n",
      "110288/110288 [==============================] - 161s - loss: 0.5319 - acc: 0.8318 - val_loss: 0.5193 - val_acc: 0.8378\n",
      "Epoch 10/20\n",
      "110288/110288 [==============================] - 159s - loss: 0.4728 - acc: 0.8519 - val_loss: 0.4511 - val_acc: 0.8587\n",
      "Epoch 11/20\n",
      "110288/110288 [==============================] - 159s - loss: 0.4300 - acc: 0.8654 - val_loss: 0.4127 - val_acc: 0.8712\n",
      "Epoch 12/20\n",
      "110288/110288 [==============================] - 159s - loss: 0.3699 - acc: 0.8850 - val_loss: 0.3658 - val_acc: 0.8870\n",
      "Epoch 13/20\n",
      "110288/110288 [==============================] - 159s - loss: 0.3342 - acc: 0.8971 - val_loss: 0.3189 - val_acc: 0.9018\n",
      "Epoch 14/20\n",
      "110288/110288 [==============================] - 166s - loss: 0.3178 - acc: 0.9031 - val_loss: 0.3023 - val_acc: 0.9076\n",
      "Epoch 15/20\n",
      "110288/110288 [==============================] - 203s - loss: 0.2912 - acc: 0.9124 - val_loss: 0.3670 - val_acc: 0.8872\n",
      "Epoch 16/20\n",
      "110288/110288 [==============================] - 159s - loss: 0.2861 - acc: 0.9139 - val_loss: 0.2620 - val_acc: 0.9225\n",
      "Epoch 17/20\n",
      "110288/110288 [==============================] - 159s - loss: 0.2366 - acc: 0.9309 - val_loss: 0.2370 - val_acc: 0.9310\n",
      "Epoch 18/20\n",
      "110288/110288 [==============================] - 159s - loss: 0.2511 - acc: 0.9253 - val_loss: 0.2179 - val_acc: 0.9366\n",
      "Epoch 19/20\n",
      "110288/110288 [==============================] - 175s - loss: 0.2048 - acc: 0.9402 - val_loss: 0.2094 - val_acc: 0.9393\n",
      "Epoch 20/20\n",
      "110288/110288 [==============================] - 290s - loss: 0.1957 - acc: 0.9426 - val_loss: 0.2031 - val_acc: 0.9403\n",
      "Sample 1:\n",
      "il a vu un vieux camion jaune <PAD> <PAD> <PAD> <PAD> <PAD> <PAD> <PAD> <PAD> <PAD> <PAD> <PAD> <PAD> <PAD> <PAD>\n",
      "Il a vu un vieux camion jaune\n",
      "Sample 2:\n",
      "new jersey est parfois calme à l'automne automne et il est neigeux en avril <PAD> <PAD> <PAD> <PAD> <PAD> <PAD> <PAD>\n",
      "<PAD> <PAD> <PAD> <PAD> <PAD> <PAD> <PAD> <PAD> <PAD> <PAD> <PAD> <PAD> <PAD> <PAD> <PAD> <PAD> <PAD> <PAD> <PAD> <PAD> <PAD>\n"
     ]
    }
   ],
   "source": [
    "import numpy as np\n",
    "from keras.preprocessing.sequence import pad_sequences\n",
    "\n",
    "\n",
    "def final_predictions(x, y, x_tk, y_tk):\n",
    "    \"\"\"\n",
    "    Gets predictions using the final model\n",
    "    :param x: Preprocessed English data\n",
    "    :param y: Preprocessed French data\n",
    "    :param x_tk: English tokenizer\n",
    "    :param y_tk: French tokenizer\n",
    "    \"\"\"\n",
    "    # TODO: Train neural network using model_final\n",
    "    model = model_final(\n",
    "        x.shape,\n",
    "        y.shape[1],\n",
    "        len(x_tk.word_index)+1,\n",
    "        len(y_tk.word_index)+1)\n",
    "    \n",
    "    model.fit(x, y, batch_size=1024, epochs=20, validation_split=0.2)\n",
    "    \n",
    "    ## DON'T EDIT ANYTHING BELOW THIS LINE\n",
    "    y_id_to_word = {value: key for key, value in y_tk.word_index.items()}\n",
    "    y_id_to_word[0] = '<PAD>'\n",
    "\n",
    "    sentence = 'he saw a old yellow truck'\n",
    "    sentence = [x_tk.word_index[word] for word in sentence.split()]\n",
    "    sentence = pad_sequences([sentence], maxlen=x.shape[-1], padding='post')\n",
    "    sentences = np.array([sentence[0], x[0]])\n",
    "    predictions = model.predict(sentences, len(sentences))\n",
    "\n",
    "    print('Sample 1:')\n",
    "    print(' '.join([y_id_to_word[np.argmax(x)] for x in predictions[0]]))\n",
    "    print('Il a vu un vieux camion jaune')\n",
    "    print('Sample 2:')\n",
    "    print(' '.join([y_id_to_word[np.argmax(x)] for x in predictions[1]]))\n",
    "    print(' '.join([y_id_to_word[np.argmax(x)] for x in y[0]]))\n",
    "\n",
    "\n",
    "final_predictions(preproc_english_sentences, preproc_french_sentences, english_tokenizer, french_tokenizer)"
   ]
  },
  {
   "cell_type": "markdown",
   "metadata": {},
   "source": [
    "## Submission\n",
    "When you are ready to submit your project, do the following steps:\n",
    "1. Ensure you pass all points on the [rubric](https://review.udacity.com/#!/rubrics/1004/view).\n",
    "2. Submit the following in a zip file.\n",
    "  - `helper.py`\n",
    "  - `machine_translation.ipynb`\n",
    "  - `machine_translation.html`\n",
    "    - You can export the notebook by navigating to **File -> Download as -> HTML (.html)**."
   ]
  }
 ],
 "metadata": {
  "kernelspec": {
   "display_name": "Python 3",
   "language": "python",
   "name": "python3"
  },
  "language_info": {
   "codemirror_mode": {
    "name": "ipython",
    "version": 3
   },
   "file_extension": ".py",
   "mimetype": "text/x-python",
   "name": "python",
   "nbconvert_exporter": "python",
   "pygments_lexer": "ipython3",
   "version": "3.6.1"
  }
 },
 "nbformat": 4,
 "nbformat_minor": 1
}
